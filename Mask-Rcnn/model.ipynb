{
 "cells": [
  {
   "cell_type": "code",
   "execution_count": 1,
   "metadata": {},
   "outputs": [
    {
     "name": "stderr",
     "output_type": "stream",
     "text": [
      "Using TensorFlow backend.\n"
     ]
    }
   ],
   "source": [
    "from __future__ import print_function\n",
    "import keras\n",
    "from keras.datasets import mnist\n",
    "from keras.models import Sequential\n",
    "from keras.layers import Dense, Dropout, Flatten\n",
    "from keras.layers import Conv2D, MaxPooling2D\n",
    "from keras import backend as K"
   ]
  },
  {
   "cell_type": "code",
   "execution_count": 2,
   "metadata": {},
   "outputs": [],
   "source": [
    "import keras.layers as KL\n",
    "import keras.engine as KE\n",
    "import keras.models as KM"
   ]
  },
  {
   "cell_type": "code",
   "execution_count": 3,
   "metadata": {},
   "outputs": [],
   "source": [
    "import os\n",
    "import random\n",
    "import datetime\n",
    "import re\n",
    "import math\n",
    "import logging\n",
    "from collections import OrderedDict\n",
    "import multiprocessing\n",
    "import numpy as np\n",
    "import tensorflow as tf"
   ]
  },
  {
   "cell_type": "code",
   "execution_count": 4,
   "metadata": {},
   "outputs": [],
   "source": [
    "batch_size = 128\n",
    "num_classes = 10\n",
    "epochs = 12"
   ]
  },
  {
   "cell_type": "code",
   "execution_count": 6,
   "metadata": {},
   "outputs": [],
   "source": [
    "img_rows, img_cols = 1024,1024"
   ]
  },
  {
   "cell_type": "markdown",
   "metadata": {},
   "source": [
    "## ResNet Graph"
   ]
  },
  {
   "cell_type": "code",
   "execution_count": 7,
   "metadata": {},
   "outputs": [],
   "source": [
    "def identity_block(input_tensor, kernel_size, filters, stage, block,\n",
    "                   use_bias=True, train_bn=True):\n",
    "    \"\"\"The identity_block is the block that has no conv layer at shortcut\n",
    "    # Arguments\n",
    "        input_tensor: input tensor\n",
    "        kernel_size: default 3, the kernel size of middle conv layer at main path\n",
    "        filters: list of integers, the nb_filters of 3 conv layer at main path\n",
    "        stage: integer, current stage label, used for generating layer names\n",
    "        block: 'a','b'..., current block label, used for generating layer names\n",
    "        use_bias: Boolean. To use or not use a bias in conv layers.\n",
    "        train_bn: Boolean. Train or freeze Batch Norm layers\n",
    "    \"\"\"\n",
    "    nb_filter1, nb_filter2, nb_filter3 = filters\n",
    "    conv_name_base = 'res' + str(stage) + block + '_branch'\n",
    "    bn_name_base = 'bn' + str(stage) + block + '_branch'\n",
    "\n",
    "    x = KL.Conv2D(nb_filter1, (1, 1), name=conv_name_base + '2a',\n",
    "                  use_bias=use_bias)(input_tensor)\n",
    "    x = KL.BatchNormalization(name=bn_name_base + '2a')(x, training=train_bn)\n",
    "    x = KL.Activation('relu')(x)\n",
    "\n",
    "    x = KL.Conv2D(nb_filter2, (kernel_size, kernel_size), padding='same',\n",
    "                  name=conv_name_base + '2b', use_bias=use_bias)(x)\n",
    "    x = KL.BatchNormalization(name=bn_name_base + '2b')(x, training=train_bn)\n",
    "    x = KL.Activation('relu')(x)\n",
    "\n",
    "    x = KL.Conv2D(nb_filter3, (1, 1), name=conv_name_base + '2c',\n",
    "                  use_bias=use_bias)(x)\n",
    "    x = KL.BatchNormalization(name=bn_name_base + '2c')(x, training=train_bn)\n",
    "\n",
    "    x = KL.Add()([x, input_tensor])\n",
    "    x = KL.Activation('relu', name='res' + str(stage) + block + '_out')(x)\n",
    "    return x"
   ]
  },
  {
   "cell_type": "code",
   "execution_count": 8,
   "metadata": {},
   "outputs": [],
   "source": [
    "def conv_block(input_tensor, kernel_size, filters, stage, block,\n",
    "               strides=(2, 2), use_bias=True, train_bn=True):\n",
    "    \"\"\"conv_block is the block that has a conv layer at shortcut\n",
    "    # Arguments\n",
    "        input_tensor: input tensor\n",
    "        kernel_size: default 3, the kernel size of middle conv layer at main path\n",
    "        filters: list of integers, the nb_filters of 3 conv layer at main path\n",
    "        stage: integer, current stage label, used for generating layer names\n",
    "        block: 'a','b'..., current block label, used for generating layer names\n",
    "        use_bias: Boolean. To use or not use a bias in conv layers.\n",
    "        train_bn: Boolean. Train or freeze Batch Norm layers\n",
    "    Note that from stage 3, the first conv layer at main path is with subsample=(2,2)\n",
    "    And the shortcut should have subsample=(2,2) as well\n",
    "    \"\"\"\n",
    "    nb_filter1, nb_filter2, nb_filter3 = filters\n",
    "    conv_name_base = 'res' + str(stage) + block + '_branch'\n",
    "    bn_name_base = 'bn' + str(stage) + block + '_branch'\n",
    "\n",
    "    x = KL.Conv2D(nb_filter1, (1, 1), strides=strides,\n",
    "                  name=conv_name_base + '2a', use_bias=use_bias)(input_tensor)\n",
    "    x = KL.BatchNormalization(name=bn_name_base + '2a')(x, training=train_bn)\n",
    "    x = KL.Activation('relu')(x)\n",
    "\n",
    "    x = KL.Conv2D(nb_filter2, (kernel_size, kernel_size), padding='same',\n",
    "                  name=conv_name_base + '2b', use_bias=use_bias)(x)\n",
    "    x = KL.BatchNormalization(name=bn_name_base + '2b')(x, training=train_bn)\n",
    "    x = KL.Activation('relu')(x)\n",
    "\n",
    "    x = KL.Conv2D(nb_filter3, (1, 1), name=conv_name_base +\n",
    "                  '2c', use_bias=use_bias)(x)\n",
    "    x = KL.BatchNormalization(name=bn_name_base + '2c')(x, training=train_bn)\n",
    "\n",
    "    shortcut = KL.Conv2D(nb_filter3, (1, 1), strides=strides,\n",
    "                         name=conv_name_base + '1', use_bias=use_bias)(input_tensor)\n",
    "    shortcut = KL.BatchNormalization(name=bn_name_base + '1')(shortcut, training=train_bn)\n",
    "\n",
    "    x = KL.Add()([x, shortcut])\n",
    "    x = KL.Activation('relu', name='res' + str(stage) + block + '_out')(x)\n",
    "    return x"
   ]
  },
  {
   "cell_type": "code",
   "execution_count": 10,
   "metadata": {},
   "outputs": [],
   "source": [
    "def resnet_graph(input_image, train_bn=True):\n",
    "    \"\"\"\n",
    "    这里我修改为只使用ResNet101的结构\n",
    "    输出一个统一的Feature Map\n",
    "    感觉可以视为C5的输出\n",
    "    Build a ResNet graph.\n",
    "        architecture: Can be resnet50 or resnet101\n",
    "        stage5: Boolean. If False, stage5 of the network is not created\n",
    "        train_bn: Boolean. Train or freeze Batch Norm layers\n",
    "    \"\"\"\n",
    "    # Stage 1\n",
    "    x = KL.ZeroPadding2D((3, 3))(input_image)\n",
    "    x = KL.Conv2D(64, (7, 7), strides=(2, 2), name='conv1', use_bias=True)(x)\n",
    "    x = KL.BatchNormalization(name='bn_conv1')(x, training=train_bn)\n",
    "    x = KL.Activation('relu')(x)\n",
    "    C1 = x = KL.MaxPooling2D((3, 3), strides=(2, 2), padding=\"same\")(x)\n",
    "    # Stage 2\n",
    "    x = conv_block(x, 3, [64, 64, 256], stage=2, block='a', strides=(1, 1), train_bn=train_bn)\n",
    "    x = identity_block(x, 3, [64, 64, 256], stage=2, block='b', train_bn=train_bn)\n",
    "    C2 = x = identity_block(x, 3, [64, 64, 256], stage=2, block='c', train_bn=train_bn)\n",
    "    # Stage 3\n",
    "    x = conv_block(x, 3, [128, 128, 512], stage=3, block='a', train_bn=train_bn)\n",
    "    x = identity_block(x, 3, [128, 128, 512], stage=3, block='b', train_bn=train_bn)\n",
    "    x = identity_block(x, 3, [128, 128, 512], stage=3, block='c', train_bn=train_bn)\n",
    "    C3 = x = identity_block(x, 3, [128, 128, 512], stage=3, block='d', train_bn=train_bn)\n",
    "    # Stage 4\n",
    "    x = conv_block(x, 3, [256, 256, 1024], stage=4, block='a', train_bn=train_bn)\n",
    "    block_count = 22\n",
    "    for i in range(block_count):\n",
    "        x = identity_block(x, 3, [256, 256, 1024], stage=4, block=chr(98 + i), train_bn=train_bn)\n",
    "    C4 = x\n",
    "    # Stage 5\n",
    "    x = conv_block(x, 3, [512, 512, 2048], stage=5, block='a', train_bn=train_bn)\n",
    "    x = identity_block(x, 3, [512, 512, 2048], stage=5, block='b', train_bn=train_bn)\n",
    "    C5 = x = identity_block(x, 3, [512, 512, 2048], stage=5, block='c', train_bn=train_bn)\n",
    "    return {'c1':C1,'c2':C2,'c3':C3,'c4':C4,'c5':C5}"
   ]
  },
  {
   "cell_type": "markdown",
   "metadata": {},
   "source": [
    "## Proposal Layer"
   ]
  },
  {
   "cell_type": "code",
   "execution_count": null,
   "metadata": {},
   "outputs": [],
   "source": []
  }
 ],
 "metadata": {
  "kernelspec": {
   "display_name": "Python 3",
   "language": "python",
   "name": "python3"
  },
  "language_info": {
   "codemirror_mode": {
    "name": "ipython",
    "version": 3
   },
   "file_extension": ".py",
   "mimetype": "text/x-python",
   "name": "python",
   "nbconvert_exporter": "python",
   "pygments_lexer": "ipython3",
   "version": "3.6.8"
  }
 },
 "nbformat": 4,
 "nbformat_minor": 2
}
