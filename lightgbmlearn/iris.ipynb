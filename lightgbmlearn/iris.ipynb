{
 "cells": [
  {
   "cell_type": "code",
   "execution_count": 1,
   "metadata": {},
   "outputs": [],
   "source": [
    "import lightgbm as lgb\n",
    "import pandas as pd\n",
    "from sklearn.metrics import mean_squared_error\n",
    "from sklearn.model_selection import GridSearchCV\n",
    "from sklearn.datasets import load_iris\n",
    "from sklearn.model_selection import train_test_split\n",
    "from sklearn.datasets import  make_classification"
   ]
  },
  {
   "cell_type": "code",
   "execution_count": 2,
   "metadata": {},
   "outputs": [],
   "source": [
    "iris = load_iris()\n",
    "data=iris.data\n",
    "target = iris.target\n",
    "X_train,X_test,y_train,y_test =train_test_split(data,target,test_size=0.2)"
   ]
  },
  {
   "cell_type": "code",
   "execution_count": 3,
   "metadata": {},
   "outputs": [],
   "source": [
    "gbm = lgb.LGBMRegressor(objective='regression',num_leaves=31,learning_rate=0.05,n_estimators=20)"
   ]
  },
  {
   "cell_type": "code",
   "execution_count": 4,
   "metadata": {},
   "outputs": [
    {
     "name": "stdout",
     "output_type": "stream",
     "text": [
      "[1]\tvalid_0's l2: 0.705124\tvalid_0's l1: 0.741123\n",
      "Training until validation scores don't improve for 5 rounds.\n",
      "[2]\tvalid_0's l2: 0.644377\tvalid_0's l1: 0.70894\n",
      "[3]\tvalid_0's l2: 0.589432\tvalid_0's l1: 0.678366\n",
      "[4]\tvalid_0's l2: 0.539728\tvalid_0's l1: 0.649321\n",
      "[5]\tvalid_0's l2: 0.494761\tvalid_0's l1: 0.621728\n",
      "[6]\tvalid_0's l2: 0.454074\tvalid_0's l1: 0.595515\n",
      "[7]\tvalid_0's l2: 0.417255\tvalid_0's l1: 0.570613\n",
      "[8]\tvalid_0's l2: 0.380118\tvalid_0's l1: 0.545885\n",
      "[9]\tvalid_0's l2: 0.349944\tvalid_0's l1: 0.523345\n",
      "[10]\tvalid_0's l2: 0.319344\tvalid_0's l1: 0.500954\n",
      "[11]\tvalid_0's l2: 0.294608\tvalid_0's l1: 0.480551\n",
      "[12]\tvalid_0's l2: 0.269374\tvalid_0's l1: 0.460277\n",
      "[13]\tvalid_0's l2: 0.24909\tvalid_0's l1: 0.441807\n",
      "[14]\tvalid_0's l2: 0.230724\tvalid_0's l1: 0.424261\n",
      "[15]\tvalid_0's l2: 0.212082\tvalid_0's l1: 0.406808\n",
      "[16]\tvalid_0's l2: 0.196957\tvalid_0's l1: 0.390942\n",
      "[17]\tvalid_0's l2: 0.18154\tvalid_0's l1: 0.376096\n",
      "[18]\tvalid_0's l2: 0.169081\tvalid_0's l1: 0.361703\n",
      "[19]\tvalid_0's l2: 0.155533\tvalid_0's l1: 0.346463\n",
      "[20]\tvalid_0's l2: 0.145056\tvalid_0's l1: 0.332697\n",
      "Did not meet early stopping. Best iteration is:\n",
      "[20]\tvalid_0's l2: 0.145056\tvalid_0's l1: 0.332697\n"
     ]
    },
    {
     "data": {
      "text/plain": [
       "LGBMRegressor(boosting_type='gbdt', class_weight=None, colsample_bytree=1.0,\n",
       "       importance_type='split', learning_rate=0.05, max_depth=-1,\n",
       "       min_child_samples=20, min_child_weight=0.001, min_split_gain=0.0,\n",
       "       n_estimators=20, n_jobs=-1, num_leaves=31, objective='regression',\n",
       "       random_state=None, reg_alpha=0.0, reg_lambda=0.0, silent=True,\n",
       "       subsample=1.0, subsample_for_bin=200000, subsample_freq=0)"
      ]
     },
     "execution_count": 4,
     "metadata": {},
     "output_type": "execute_result"
    }
   ],
   "source": [
    "gbm.fit(X_train, y_train,eval_set=[(X_test, y_test)],eval_metric='l1',early_stopping_rounds=5)"
   ]
  },
  {
   "cell_type": "code",
   "execution_count": 5,
   "metadata": {},
   "outputs": [],
   "source": [
    "y_pred = gbm.predict(X_test, num_iteration=gbm.best_iteration_)"
   ]
  },
  {
   "cell_type": "code",
   "execution_count": 6,
   "metadata": {},
   "outputs": [
    {
     "name": "stdout",
     "output_type": "stream",
     "text": [
      "The rmse of prediction is: 0.38086186779531483\n"
     ]
    }
   ],
   "source": [
    "print('The rmse of prediction is:', mean_squared_error(y_test, y_pred) ** 0.5)"
   ]
  },
  {
   "cell_type": "code",
   "execution_count": 7,
   "metadata": {},
   "outputs": [
    {
     "name": "stdout",
     "output_type": "stream",
     "text": [
      "Feature importances: [22, 4, 23, 17]\n"
     ]
    }
   ],
   "source": [
    "print('Feature importances:', list(gbm.feature_importances_))"
   ]
  },
  {
   "cell_type": "code",
   "execution_count": 8,
   "metadata": {},
   "outputs": [],
   "source": [
    "estimator = lgb.LGBMRegressor(num_leaves=31)"
   ]
  },
  {
   "cell_type": "code",
   "execution_count": 9,
   "metadata": {},
   "outputs": [],
   "source": [
    "param_grid = {\n",
    "    'learning_rate': [0.01, 0.1, 1],\n",
    "    'n_estimators': [20, 40]\n",
    "}"
   ]
  },
  {
   "cell_type": "code",
   "execution_count": 10,
   "metadata": {},
   "outputs": [],
   "source": [
    "gbm = GridSearchCV(estimator, param_grid)"
   ]
  },
  {
   "cell_type": "code",
   "execution_count": 11,
   "metadata": {},
   "outputs": [
    {
     "name": "stderr",
     "output_type": "stream",
     "text": [
      "/home/viewv/anaconda3/envs/DeepLearning/lib/python3.6/site-packages/sklearn/model_selection/_split.py:2053: FutureWarning: You should specify a value for 'cv' instead of relying on the default value. The default value will change from 3 to 5 in version 0.22.\n",
      "  warnings.warn(CV_WARNING, FutureWarning)\n"
     ]
    },
    {
     "data": {
      "text/plain": [
       "GridSearchCV(cv='warn', error_score='raise-deprecating',\n",
       "       estimator=LGBMRegressor(boosting_type='gbdt', class_weight=None, colsample_bytree=1.0,\n",
       "       importance_type='split', learning_rate=0.1, max_depth=-1,\n",
       "       min_child_samples=20, min_child_weight=0.001, min_split_gain=0.0,\n",
       "       n_estimators=100, n_jobs=-1, num_leaves=31, objective=None,\n",
       "       random_state=None, reg_alpha=0.0, reg_lambda=0.0, silent=True,\n",
       "       subsample=1.0, subsample_for_bin=200000, subsample_freq=0),\n",
       "       fit_params=None, iid='warn', n_jobs=None,\n",
       "       param_grid={'learning_rate': [0.01, 0.1, 1], 'n_estimators': [20, 40]},\n",
       "       pre_dispatch='2*n_jobs', refit=True, return_train_score='warn',\n",
       "       scoring=None, verbose=0)"
      ]
     },
     "execution_count": 11,
     "metadata": {},
     "output_type": "execute_result"
    }
   ],
   "source": [
    "gbm.fit(X_train, y_train)"
   ]
  },
  {
   "cell_type": "code",
   "execution_count": 12,
   "metadata": {},
   "outputs": [
    {
     "name": "stdout",
     "output_type": "stream",
     "text": [
      "Best parameters found by grid search are: {'learning_rate': 0.1, 'n_estimators': 40}\n"
     ]
    }
   ],
   "source": [
    "print('Best parameters found by grid search are:', gbm.best_params_)"
   ]
  },
  {
   "cell_type": "code",
   "execution_count": 13,
   "metadata": {},
   "outputs": [
    {
     "data": {
      "text/plain": [
       "(120, 4)"
      ]
     },
     "execution_count": 13,
     "metadata": {},
     "output_type": "execute_result"
    }
   ],
   "source": [
    "X_train.shape"
   ]
  },
  {
   "cell_type": "code",
   "execution_count": 14,
   "metadata": {},
   "outputs": [
    {
     "data": {
      "text/plain": [
       "array([5.4, 3. , 4.5, 1.5])"
      ]
     },
     "execution_count": 14,
     "metadata": {},
     "output_type": "execute_result"
    }
   ],
   "source": [
    "X_train[0]"
   ]
  },
  {
   "cell_type": "code",
   "execution_count": 15,
   "metadata": {},
   "outputs": [
    {
     "data": {
      "text/plain": [
       "array([1, 1, 1, 2, 0, 0, 0, 2, 2, 2, 2, 0, 2, 0, 0, 0, 0, 0, 1, 0, 2, 1,\n",
       "       2, 1, 2, 0, 0, 1, 1, 1, 1, 2, 2, 1, 2, 1, 1, 2, 1, 0, 0, 1, 1, 0,\n",
       "       2, 0, 2, 0, 2, 1, 2, 0, 1, 2, 2, 1, 0, 1, 1, 2, 1, 2, 0, 0, 1, 1,\n",
       "       1, 2, 0, 1, 0, 1, 1, 0, 0, 2, 2, 0, 2, 1, 1, 1, 2, 0, 0, 1, 0, 2,\n",
       "       0, 0, 2, 0, 1, 2, 1, 0, 1, 0, 2, 2, 1, 1, 1, 2, 0, 1, 2, 2, 2, 2,\n",
       "       2, 2, 1, 1, 2, 0, 1, 0, 2, 1])"
      ]
     },
     "execution_count": 15,
     "metadata": {},
     "output_type": "execute_result"
    }
   ],
   "source": [
    "y_train"
   ]
  },
  {
   "cell_type": "code",
   "execution_count": 16,
   "metadata": {},
   "outputs": [
    {
     "data": {
      "text/plain": [
       "(120,)"
      ]
     },
     "execution_count": 16,
     "metadata": {},
     "output_type": "execute_result"
    }
   ],
   "source": [
    "y_train.shape"
   ]
  },
  {
   "cell_type": "code",
   "execution_count": 18,
   "metadata": {},
   "outputs": [],
   "source": [
    "from keras.utils import to_categorical"
   ]
  },
  {
   "cell_type": "code",
   "execution_count": 19,
   "metadata": {},
   "outputs": [],
   "source": [
    "y_train = to_categorical(y_train)\n",
    "y_test = to_categorical(y_test)"
   ]
  },
  {
   "cell_type": "code",
   "execution_count": 22,
   "metadata": {},
   "outputs": [
    {
     "data": {
      "text/plain": [
       "array([0., 1., 0.], dtype=float32)"
      ]
     },
     "execution_count": 22,
     "metadata": {},
     "output_type": "execute_result"
    }
   ],
   "source": [
    "y_train[0]"
   ]
  },
  {
   "cell_type": "code",
   "execution_count": 32,
   "metadata": {},
   "outputs": [],
   "source": [
    "from keras.callbacks import TensorBoard"
   ]
  },
  {
   "cell_type": "code",
   "execution_count": 17,
   "metadata": {},
   "outputs": [],
   "source": [
    "import keras\n",
    "from keras import Model\n",
    "from keras.models import Sequential\n",
    "from keras.layers import Dense, Activation"
   ]
  },
  {
   "cell_type": "code",
   "execution_count": 41,
   "metadata": {},
   "outputs": [],
   "source": [
    "model = Sequential()\n",
    "model.add(Dense(32, input_shape=(4,),activation='relu'))\n",
    "model.add(Dense(32,activation='relu'))\n",
    "model.add(Dense(32,activation='relu'))\n",
    "model.add(Dense(32,activation='relu'))\n",
    "model.add(Dense(3, activation='softmax'))"
   ]
  },
  {
   "cell_type": "code",
   "execution_count": 42,
   "metadata": {},
   "outputs": [],
   "source": [
    "model.compile(optimizer='rmsprop',\n",
    "              loss='categorical_crossentropy',\n",
    "              metrics=['accuracy'])"
   ]
  },
  {
   "cell_type": "code",
   "execution_count": 43,
   "metadata": {},
   "outputs": [
    {
     "name": "stdout",
     "output_type": "stream",
     "text": [
      "Epoch 1/20\n",
      "120/120 [==============================] - 1s 8ms/step - loss: 1.3759 - acc: 0.3083\n",
      "Epoch 2/20\n",
      "120/120 [==============================] - 0s 277us/step - loss: 1.0281 - acc: 0.5500\n",
      "Epoch 3/20\n",
      "120/120 [==============================] - 0s 162us/step - loss: 0.9221 - acc: 0.6417\n",
      "Epoch 4/20\n",
      "120/120 [==============================] - 0s 283us/step - loss: 0.8519 - acc: 0.6417\n",
      "Epoch 5/20\n",
      "120/120 [==============================] - 0s 210us/step - loss: 0.7714 - acc: 0.6417\n",
      "Epoch 6/20\n",
      "120/120 [==============================] - 0s 260us/step - loss: 0.7078 - acc: 0.7000\n",
      "Epoch 7/20\n",
      "120/120 [==============================] - 0s 243us/step - loss: 0.6534 - acc: 0.7167\n",
      "Epoch 8/20\n",
      "120/120 [==============================] - 0s 156us/step - loss: 0.6030 - acc: 0.6833\n",
      "Epoch 9/20\n",
      "120/120 [==============================] - 0s 276us/step - loss: 0.5606 - acc: 0.8917\n",
      "Epoch 10/20\n",
      "120/120 [==============================] - 0s 225us/step - loss: 0.5270 - acc: 0.8250\n",
      "Epoch 11/20\n",
      "120/120 [==============================] - 0s 288us/step - loss: 0.4882 - acc: 0.8917\n",
      "Epoch 12/20\n",
      "120/120 [==============================] - 0s 186us/step - loss: 0.4536 - acc: 0.8750\n",
      "Epoch 13/20\n",
      "120/120 [==============================] - 0s 240us/step - loss: 0.4473 - acc: 0.8750\n",
      "Epoch 14/20\n",
      "120/120 [==============================] - 0s 245us/step - loss: 0.4026 - acc: 0.9583\n",
      "Epoch 15/20\n",
      "120/120 [==============================] - 0s 177us/step - loss: 0.3775 - acc: 0.9417\n",
      "Epoch 16/20\n",
      "120/120 [==============================] - 0s 252us/step - loss: 0.3523 - acc: 0.9667\n",
      "Epoch 17/20\n",
      "120/120 [==============================] - 0s 316us/step - loss: 0.3258 - acc: 0.9667\n",
      "Epoch 18/20\n",
      "120/120 [==============================] - 0s 208us/step - loss: 0.3130 - acc: 0.9250\n",
      "Epoch 19/20\n",
      "120/120 [==============================] - 0s 158us/step - loss: 0.3042 - acc: 0.9417\n",
      "Epoch 20/20\n",
      "120/120 [==============================] - 0s 315us/step - loss: 0.2668 - acc: 0.9667\n"
     ]
    },
    {
     "data": {
      "text/plain": [
       "<keras.callbacks.History at 0x7fc41a0c6550>"
      ]
     },
     "execution_count": 43,
     "metadata": {},
     "output_type": "execute_result"
    }
   ],
   "source": [
    "model.fit(X_train, y_train, epochs=20, batch_size=32)"
   ]
  },
  {
   "cell_type": "code",
   "execution_count": 48,
   "metadata": {},
   "outputs": [
    {
     "data": {
      "text/plain": [
       "(4,)"
      ]
     },
     "execution_count": 48,
     "metadata": {},
     "output_type": "execute_result"
    }
   ],
   "source": [
    "X_train[0].shape"
   ]
  },
  {
   "cell_type": "code",
   "execution_count": 50,
   "metadata": {},
   "outputs": [
    {
     "data": {
      "text/plain": [
       "array([0., 1., 0.], dtype=float32)"
      ]
     },
     "execution_count": 50,
     "metadata": {},
     "output_type": "execute_result"
    }
   ],
   "source": [
    "y_train[0]"
   ]
  },
  {
   "cell_type": "code",
   "execution_count": 49,
   "metadata": {},
   "outputs": [
    {
     "data": {
      "text/plain": [
       "array([[0.01603369, 0.52876365, 0.45520264]], dtype=float32)"
      ]
     },
     "execution_count": 49,
     "metadata": {},
     "output_type": "execute_result"
    }
   ],
   "source": [
    "model.predict(X_train[0:1])"
   ]
  },
  {
   "cell_type": "code",
   "execution_count": 51,
   "metadata": {},
   "outputs": [
    {
     "data": {
      "text/plain": [
       "array([[3.0017562e-02, 6.7974997e-01, 2.9023251e-01],\n",
       "       [2.7794661e-02, 7.0236915e-01, 2.6983622e-01],\n",
       "       [4.4556404e-03, 2.8829730e-01, 7.0724708e-01],\n",
       "       [8.6175367e-02, 7.8270656e-01, 1.3111809e-01],\n",
       "       [2.2785461e-03, 2.6520711e-01, 7.3251438e-01],\n",
       "       [9.8114729e-01, 1.8476533e-02, 3.7616325e-04],\n",
       "       [9.8380196e-01, 1.5915118e-02, 2.8284747e-04],\n",
       "       [2.6922335e-03, 1.7234580e-01, 8.2496190e-01],\n",
       "       [2.1314460e-03, 1.4464018e-01, 8.5322839e-01],\n",
       "       [9.7779435e-01, 2.1683944e-02, 5.2178651e-04],\n",
       "       [1.0960707e-03, 1.1860984e-01, 8.8029402e-01],\n",
       "       [9.8423612e-01, 1.5496837e-02, 2.6703480e-04],\n",
       "       [1.4674448e-03, 1.8161945e-01, 8.1691313e-01],\n",
       "       [3.7191235e-02, 7.5317854e-01, 2.0963027e-01],\n",
       "       [9.9142390e-01, 8.4697967e-03, 1.0633280e-04],\n",
       "       [4.3053970e-02, 7.1285373e-01, 2.4409230e-01],\n",
       "       [9.7326332e-01, 2.6100431e-02, 6.3625234e-04],\n",
       "       [9.8126721e-01, 1.8391557e-02, 3.4123610e-04],\n",
       "       [3.5606246e-03, 2.5984117e-01, 7.3659819e-01],\n",
       "       [9.7349745e-01, 2.5798177e-02, 7.0445938e-04],\n",
       "       [9.5813841e-01, 4.0420625e-02, 1.4410125e-03],\n",
       "       [1.7317226e-02, 6.7272997e-01, 3.0995274e-01],\n",
       "       [9.6458167e-01, 3.4259558e-02, 1.1586812e-03],\n",
       "       [9.8469245e-01, 1.5094340e-02, 2.1312115e-04],\n",
       "       [9.6988189e-04, 1.1855571e-01, 8.8047439e-01],\n",
       "       [1.5603555e-03, 1.9804439e-01, 8.0039525e-01],\n",
       "       [8.7464624e-04, 1.3109145e-01, 8.6803383e-01],\n",
       "       [1.4973128e-03, 1.8045945e-01, 8.1804323e-01],\n",
       "       [9.8918509e-01, 1.0654811e-02, 1.6015912e-04],\n",
       "       [9.8017371e-01, 1.9432215e-02, 3.9414279e-04]], dtype=float32)"
      ]
     },
     "execution_count": 51,
     "metadata": {},
     "output_type": "execute_result"
    }
   ],
   "source": [
    "model.predict(X_test)"
   ]
  },
  {
   "cell_type": "code",
   "execution_count": 53,
   "metadata": {},
   "outputs": [],
   "source": [
    "import numpy as np"
   ]
  },
  {
   "cell_type": "code",
   "execution_count": 57,
   "metadata": {},
   "outputs": [],
   "source": [
    "xdata = [np.argmax(one_hot)for one_hot in model.predict(X_test)]"
   ]
  },
  {
   "cell_type": "code",
   "execution_count": 58,
   "metadata": {
    "collapsed": true
   },
   "outputs": [
    {
     "data": {
      "text/plain": [
       "[1,\n",
       " 1,\n",
       " 1,\n",
       " 1,\n",
       " 2,\n",
       " 0,\n",
       " 0,\n",
       " 2,\n",
       " 2,\n",
       " 0,\n",
       " 2,\n",
       " 0,\n",
       " 2,\n",
       " 1,\n",
       " 0,\n",
       " 1,\n",
       " 0,\n",
       " 0,\n",
       " 2,\n",
       " 0,\n",
       " 0,\n",
       " 1,\n",
       " 0,\n",
       " 0,\n",
       " 2,\n",
       " 2,\n",
       " 2,\n",
       " 2,\n",
       " 0,\n",
       " 0]"
      ]
     },
     "execution_count": 58,
     "metadata": {},
     "output_type": "execute_result"
    }
   ],
   "source": [
    "data"
   ]
  },
  {
   "cell_type": "code",
   "execution_count": 56,
   "metadata": {},
   "outputs": [],
   "source": [
    "data = [np.argmax(one_hot)for one_hot in y_test]"
   ]
  },
  {
   "cell_type": "code",
   "execution_count": 59,
   "metadata": {},
   "outputs": [
    {
     "name": "stdout",
     "output_type": "stream",
     "text": [
      "x = 1 y = 2\n"
     ]
    }
   ],
   "source": [
    "for x,y in zip(data,xdata):\n",
    "    if x != y:\n",
    "        print(\"x =\",x,\"y =\",y)"
   ]
  },
  {
   "cell_type": "code",
   "execution_count": null,
   "metadata": {},
   "outputs": [],
   "source": []
  }
 ],
 "metadata": {
  "kernelspec": {
   "display_name": "DeepLearning",
   "language": "python",
   "name": "deeplearning"
  },
  "language_info": {
   "codemirror_mode": {
    "name": "ipython",
    "version": 3
   },
   "file_extension": ".py",
   "mimetype": "text/x-python",
   "name": "python",
   "nbconvert_exporter": "python",
   "pygments_lexer": "ipython3",
   "version": "3.6.8"
  }
 },
 "nbformat": 4,
 "nbformat_minor": 2
}
