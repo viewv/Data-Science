{
 "cells": [
  {
   "cell_type": "code",
   "execution_count": 1,
   "metadata": {},
   "outputs": [],
   "source": [
    "DATA_FILE = \"data/fire_theft.xls\""
   ]
  },
  {
   "cell_type": "code",
   "execution_count": 2,
   "metadata": {},
   "outputs": [],
   "source": [
    "import numpy as np\n",
    "import pandas as pd\n",
    "import matplotlib.pyplot as plt\n",
    "import tensorflow as tf\n",
    "import seaborn as sns\n",
    "import xlrd"
   ]
  },
  {
   "cell_type": "code",
   "execution_count": 3,
   "metadata": {
    "collapsed": true
   },
   "outputs": [
    {
     "name": "stdout",
     "output_type": "stream",
     "text": [
      "*** No CODEPAGE record, no encoding_override: will use 'ascii'\n"
     ]
    }
   ],
   "source": [
    "df = pd.read_excel(DATA_FILE)"
   ]
  },
  {
   "cell_type": "code",
   "execution_count": 4,
   "metadata": {},
   "outputs": [
    {
     "name": "stdout",
     "output_type": "stream",
     "text": [
      "<class 'pandas.core.frame.DataFrame'>\n",
      "RangeIndex: 42 entries, 0 to 41\n",
      "Data columns (total 2 columns):\n",
      "X    42 non-null float64\n",
      "Y    42 non-null int64\n",
      "dtypes: float64(1), int64(1)\n",
      "memory usage: 752.0 bytes\n"
     ]
    }
   ],
   "source": [
    "df.info()"
   ]
  },
  {
   "cell_type": "code",
   "execution_count": 5,
   "metadata": {},
   "outputs": [],
   "source": [
    "book = xlrd.open_workbook(DATA_FILE,encoding_override=\"utf-8\")"
   ]
  },
  {
   "cell_type": "code",
   "execution_count": 6,
   "metadata": {},
   "outputs": [],
   "source": [
    "sheet = book.sheet_by_index(0)"
   ]
  },
  {
   "cell_type": "code",
   "execution_count": 7,
   "metadata": {
    "collapsed": true
   },
   "outputs": [
    {
     "data": {
      "text/html": [
       "<div>\n",
       "<style scoped>\n",
       "    .dataframe tbody tr th:only-of-type {\n",
       "        vertical-align: middle;\n",
       "    }\n",
       "\n",
       "    .dataframe tbody tr th {\n",
       "        vertical-align: top;\n",
       "    }\n",
       "\n",
       "    .dataframe thead th {\n",
       "        text-align: right;\n",
       "    }\n",
       "</style>\n",
       "<table border=\"1\" class=\"dataframe\">\n",
       "  <thead>\n",
       "    <tr style=\"text-align: right;\">\n",
       "      <th></th>\n",
       "      <th>X</th>\n",
       "      <th>Y</th>\n",
       "    </tr>\n",
       "  </thead>\n",
       "  <tbody>\n",
       "    <tr>\n",
       "      <th>0</th>\n",
       "      <td>6.2</td>\n",
       "      <td>29</td>\n",
       "    </tr>\n",
       "    <tr>\n",
       "      <th>1</th>\n",
       "      <td>9.5</td>\n",
       "      <td>44</td>\n",
       "    </tr>\n",
       "    <tr>\n",
       "      <th>2</th>\n",
       "      <td>10.5</td>\n",
       "      <td>36</td>\n",
       "    </tr>\n",
       "    <tr>\n",
       "      <th>3</th>\n",
       "      <td>7.7</td>\n",
       "      <td>37</td>\n",
       "    </tr>\n",
       "    <tr>\n",
       "      <th>4</th>\n",
       "      <td>8.6</td>\n",
       "      <td>53</td>\n",
       "    </tr>\n",
       "    <tr>\n",
       "      <th>5</th>\n",
       "      <td>34.1</td>\n",
       "      <td>68</td>\n",
       "    </tr>\n",
       "    <tr>\n",
       "      <th>6</th>\n",
       "      <td>11.0</td>\n",
       "      <td>75</td>\n",
       "    </tr>\n",
       "    <tr>\n",
       "      <th>7</th>\n",
       "      <td>6.9</td>\n",
       "      <td>18</td>\n",
       "    </tr>\n",
       "    <tr>\n",
       "      <th>8</th>\n",
       "      <td>7.3</td>\n",
       "      <td>31</td>\n",
       "    </tr>\n",
       "    <tr>\n",
       "      <th>9</th>\n",
       "      <td>15.1</td>\n",
       "      <td>25</td>\n",
       "    </tr>\n",
       "  </tbody>\n",
       "</table>\n",
       "</div>"
      ],
      "text/plain": [
       "      X   Y\n",
       "0   6.2  29\n",
       "1   9.5  44\n",
       "2  10.5  36\n",
       "3   7.7  37\n",
       "4   8.6  53\n",
       "5  34.1  68\n",
       "6  11.0  75\n",
       "7   6.9  18\n",
       "8   7.3  31\n",
       "9  15.1  25"
      ]
     },
     "execution_count": 7,
     "metadata": {},
     "output_type": "execute_result"
    }
   ],
   "source": [
    "df.head(10)"
   ]
  },
  {
   "cell_type": "code",
   "execution_count": 8,
   "metadata": {},
   "outputs": [],
   "source": [
    "data_x = df.loc[:,'X'].to_numpy()"
   ]
  },
  {
   "cell_type": "code",
   "execution_count": 9,
   "metadata": {},
   "outputs": [],
   "source": [
    "data_y = df.loc[:,'Y'].to_numpy()"
   ]
  },
  {
   "cell_type": "code",
   "execution_count": 10,
   "metadata": {},
   "outputs": [],
   "source": [
    "data = np.dstack((data_x,data_y))[0]"
   ]
  },
  {
   "cell_type": "code",
   "execution_count": 11,
   "metadata": {
    "collapsed": true
   },
   "outputs": [
    {
     "data": {
      "text/plain": [
       "array([[  6.2,  29. ],\n",
       "       [  9.5,  44. ],\n",
       "       [ 10.5,  36. ],\n",
       "       [  7.7,  37. ],\n",
       "       [  8.6,  53. ],\n",
       "       [ 34.1,  68. ],\n",
       "       [ 11. ,  75. ],\n",
       "       [  6.9,  18. ],\n",
       "       [  7.3,  31. ],\n",
       "       [ 15.1,  25. ],\n",
       "       [ 29.1,  34. ],\n",
       "       [  2.2,  14. ],\n",
       "       [  5.7,  11. ],\n",
       "       [  2. ,  11. ],\n",
       "       [  2.5,  22. ],\n",
       "       [  4. ,  16. ],\n",
       "       [  5.4,  27. ],\n",
       "       [  2.2,   9. ],\n",
       "       [  7.2,  29. ],\n",
       "       [ 15.1,  30. ],\n",
       "       [ 16.5,  40. ],\n",
       "       [ 18.4,  32. ],\n",
       "       [ 36.2,  41. ],\n",
       "       [ 39.7, 147. ],\n",
       "       [ 18.5,  22. ],\n",
       "       [ 23.3,  29. ],\n",
       "       [ 12.2,  46. ],\n",
       "       [  5.6,  23. ],\n",
       "       [ 21.8,   4. ],\n",
       "       [ 21.6,  31. ],\n",
       "       [  9. ,  39. ],\n",
       "       [  3.6,  15. ],\n",
       "       [  5. ,  32. ],\n",
       "       [ 28.6,  27. ],\n",
       "       [ 17.4,  32. ],\n",
       "       [ 11.3,  34. ],\n",
       "       [  3.4,  17. ],\n",
       "       [ 11.9,  46. ],\n",
       "       [ 10.5,  42. ],\n",
       "       [ 10.7,  43. ],\n",
       "       [ 10.8,  34. ],\n",
       "       [  4.8,  19. ]])"
      ]
     },
     "execution_count": 11,
     "metadata": {},
     "output_type": "execute_result"
    }
   ],
   "source": [
    "data"
   ]
  },
  {
   "cell_type": "code",
   "execution_count": 12,
   "metadata": {},
   "outputs": [],
   "source": [
    "#######################\n",
    "## Defining flags #####\n",
    "#######################\n",
    "tf.app.flags.DEFINE_integer(\n",
    "    'num_epochs', 5, 'The number of epochs for training the model. Default=50')\n",
    "# Store all elements in FLAG structure!\n",
    "tf.app.flags.DEFINE_string('f', '', 'kernel')\n",
    "FLAGS = tf.app.flags.FLAGS"
   ]
  },
  {
   "cell_type": "code",
   "execution_count": 13,
   "metadata": {},
   "outputs": [],
   "source": [
    "W = tf.Variable(np.random.randn,name=\"weights\")\n",
    "b = tf.Variable(0.0,name=\"bias\")"
   ]
  },
  {
   "cell_type": "code",
   "execution_count": 14,
   "metadata": {},
   "outputs": [],
   "source": [
    "def inputs():\n",
    "    X = tf.placeholder(tf.float32,name=\"X\")\n",
    "    Y = tf.placeholder(tf.float32,name=\"Y\")\n",
    "    return X,Y"
   ]
  },
  {
   "cell_type": "code",
   "execution_count": 15,
   "metadata": {},
   "outputs": [],
   "source": [
    "def inference(X):\n",
    "    \"\"\"\n",
    "    Forward passing the X.\n",
    "    :param X: Input.\n",
    "    :return: X*W + b.\n",
    "    \"\"\"\n",
    "    return X * W + b"
   ]
  },
  {
   "cell_type": "code",
   "execution_count": 16,
   "metadata": {},
   "outputs": [],
   "source": [
    "def loss(X, Y):\n",
    "    \"\"\"\n",
    "    compute the loss by comparing the predicted value to the actual label.\n",
    "    :param X: The input.\n",
    "    :param Y: The label.\n",
    "    :return: The loss over the samples.\n",
    "    \"\"\"\n",
    "    # Making the prediction.\n",
    "    Y_predicted = inference(X)\n",
    "    return tf.squared_difference(Y, Y_predicted)"
   ]
  },
  {
   "cell_type": "code",
   "execution_count": 19,
   "metadata": {},
   "outputs": [],
   "source": [
    "def train(loss):\n",
    "    learning_rate = 0.001\n",
    "    return tf.train.GradientDescentOptimizer(learning_rate).minimize(loss)"
   ]
  },
  {
   "cell_type": "code",
   "execution_count": null,
   "metadata": {},
   "outputs": [
    {
     "name": "stdout",
     "output_type": "stream",
     "text": [
      "x = 8.6 y = 53.0 loss = 616.2871\n",
      "x = 15.1 y = 25.0 loss = 140.28291\n",
      "x = 2.5 y = 22.0 loss = 90.72469\n",
      "x = 15.1 y = 30.0 loss = 434.19495\n",
      "x = 18.5 y = 22.0 loss = 21649.322\n",
      "x = 21.6 y = 31.0 loss = 1467.3754\n",
      "x = 17.4 y = 32.0 loss = 1125.7109\n",
      "x = 10.7 y = 43.0 loss = 297.02216\n"
     ]
    },
    {
     "data": {
      "image/png": "[encoded data removed]",
      "text/plain": [
       "<Figure size 432x288 with 1 Axes>"
      ]
     },
     "metadata": {
      "needs_background": "light"
     },
     "output_type": "display_data"
    },
    {
     "name": "stdout",
     "output_type": "stream",
     "text": [
      "epoch 1, loss=16.015934\n",
      "x = 8.6 y = 53.0 loss = 103.395775\n",
      "x = 15.1 y = 25.0 loss = 430.73285\n",
      "x = 2.5 y = 22.0 loss = 68.78624\n",
      "x = 15.1 y = 30.0 loss = 326.9862\n",
      "x = 18.5 y = 22.0 loss = 21878.027\n",
      "x = 21.6 y = 31.0 loss = 1454.1317\n",
      "x = 17.4 y = 32.0 loss = 1096.9211\n",
      "x = 10.7 y = 43.0 loss = 292.3676\n"
     ]
    },
    {
     "data": {
      "image/png": "[encoded data removed]",
      "text/plain": [
       "<Figure size 432x288 with 1 Axes>"
      ]
     },
     "metadata": {
      "needs_background": "light"
     },
     "output_type": "display_data"
    },
    {
     "name": "stdout",
     "output_type": "stream",
     "text": [
      "epoch 2, loss=13.961980\n",
      "x = 8.6 y = 53.0 loss = 101.04359\n",
      "x = 15.1 y = 25.0 loss = 411.49924\n",
      "x = 2.5 y = 22.0 loss = 62.52639\n",
      "x = 15.1 y = 30.0 loss = 319.87195\n",
      "x = 18.5 y = 22.0 loss = 21642.191\n",
      "x = 21.6 y = 31.0 loss = 1443.8212\n",
      "x = 17.4 y = 32.0 loss = 1069.2609\n",
      "x = 10.7 y = 43.0 loss = 287.8722\n"
     ]
    },
    {
     "data": {
      "image/png": "[encoded data removed]",
      "text/plain": [
       "<Figure size 432x288 with 1 Axes>"
      ]
     },
     "metadata": {
      "needs_background": "light"
     },
     "output_type": "display_data"
    },
    {
     "name": "stdout",
     "output_type": "stream",
     "text": [
      "epoch 3, loss=12.097948\n",
      "x = 8.6 y = 53.0 loss = 98.78003\n",
      "x = 15.1 y = 25.0 loss = 393.19843\n",
      "x = 2.5 y = 22.0 loss = 56.719677\n",
      "x = 15.1 y = 30.0 loss = 313.02188\n",
      "x = 18.5 y = 22.0 loss = 21413.857\n",
      "x = 21.6 y = 31.0 loss = 1433.8193\n",
      "x = 17.4 y = 32.0 loss = 1042.6752\n",
      "x = 10.7 y = 43.0 loss = 283.52966\n"
     ]
    },
    {
     "data": {
      "image/png": "[encoded data removed]",
      "text/plain": [
       "<Figure size 432x288 with 1 Axes>"
      ]
     },
     "metadata": {
      "needs_background": "light"
     },
     "output_type": "display_data"
    },
    {
     "name": "stdout",
     "output_type": "stream",
     "text": [
      "epoch 4, loss=10.411666\n",
      "x = 8.6 y = 53.0 loss = 96.60115\n",
      "x = 15.1 y = 25.0 loss = 375.78363\n",
      "x = 2.5 y = 22.0 loss = 51.339016\n",
      "x = 15.1 y = 30.0 loss = 306.42514\n",
      "x = 18.5 y = 22.0 loss = 21192.746\n",
      "x = 21.6 y = 31.0 loss = 1424.1168\n",
      "x = 17.4 y = 32.0 loss = 1017.1173\n",
      "x = 10.7 y = 43.0 loss = 279.33423\n"
     ]
    },
    {
     "data": {
      "image/png": "[encoded data removed]",
      "text/plain": [
       "<Figure size 432x288 with 1 Axes>"
      ]
     },
     "metadata": {
      "needs_background": "light"
     },
     "output_type": "display_data"
    },
    {
     "name": "stdout",
     "output_type": "stream",
     "text": [
      "epoch 5, loss=8.891701\n",
      "x = 8.6 y = 53.0 loss = 94.503525\n",
      "x = 15.1 y = 25.0 loss = 359.2107\n",
      "x = 2.5 y = 22.0 loss = 46.358833\n",
      "x = 15.1 y = 30.0 loss = 300.0712\n",
      "x = 18.5 y = 22.0 loss = 20978.621\n",
      "x = 21.6 y = 31.0 loss = 1414.7039\n",
      "x = 17.4 y = 32.0 loss = 992.5432\n",
      "x = 10.7 y = 43.0 loss = 275.2803\n"
     ]
    },
    {
     "data": {
      "image/png": "[encoded data removed]",
      "text/plain": [
       "<Figure size 432x288 with 1 Axes>"
      ]
     },
     "metadata": {
      "needs_background": "light"
     },
     "output_type": "display_data"
    },
    {
     "name": "stdout",
     "output_type": "stream",
     "text": [
      "epoch 6, loss=7.527262\n",
      "x = 8.6 y = 53.0 loss = 92.4838\n",
      "x = 15.1 y = 25.0 loss = 343.43707\n",
      "x = 2.5 y = 22.0 loss = 41.75498\n",
      "x = 15.1 y = 30.0 loss = 293.94998\n",
      "x = 18.5 y = 22.0 loss = 20771.225\n",
      "x = 21.6 y = 31.0 loss = 1405.5712\n",
      "x = 17.4 y = 32.0 loss = 968.9112\n",
      "x = 10.7 y = 43.0 loss = 271.3626\n"
     ]
    },
    {
     "data": {
      "image/png": "[encoded data removed]",
      "text/plain": [
       "<Figure size 432x288 with 1 Axes>"
      ]
     },
     "metadata": {
      "needs_background": "light"
     },
     "output_type": "display_data"
    },
    {
     "name": "stdout",
     "output_type": "stream",
     "text": [
      "epoch 7, loss=6.308176\n",
      "x = 8.6 y = 53.0 loss = 90.5387\n",
      "x = 15.1 y = 25.0 loss = 328.42285\n",
      "x = 2.5 y = 22.0 loss = 37.504658\n",
      "x = 15.1 y = 30.0 loss = 288.0519\n",
      "x = 18.5 y = 22.0 loss = 20570.338\n",
      "x = 21.6 y = 31.0 loss = 1396.7096\n",
      "x = 17.4 y = 32.0 loss = 946.1803\n",
      "x = 10.7 y = 43.0 loss = 267.57593\n"
     ]
    },
    {
     "data": {
      "image/png": "[encoded data removed]",
      "text/plain": [
       "<Figure size 432x288 with 1 Axes>"
      ]
     },
     "metadata": {
      "needs_background": "light"
     },
     "output_type": "display_data"
    },
    {
     "name": "stdout",
     "output_type": "stream",
     "text": [
      "epoch 8, loss=5.224843\n",
      "x = 8.6 y = 53.0 loss = 88.66512\n",
      "x = 15.1 y = 25.0 loss = 314.1296\n",
      "x = 2.5 y = 22.0 loss = 33.58635\n",
      "x = 15.1 y = 30.0 loss = 282.36804\n",
      "x = 18.5 y = 22.0 loss = 20375.715\n",
      "x = 21.6 y = 31.0 loss = 1388.1099\n",
      "x = 17.4 y = 32.0 loss = 924.31177\n",
      "x = 10.7 y = 43.0 loss = 263.9155\n"
     ]
    },
    {
     "data": {
      "image/png": "[encoded data removed]",
      "text/plain": [
       "<Figure size 432x288 with 1 Axes>"
      ]
     },
     "metadata": {
      "needs_background": "light"
     },
     "output_type": "display_data"
    },
    {
     "name": "stdout",
     "output_type": "stream",
     "text": [
      "epoch 9, loss=4.268269\n",
      "x = 8.6 y = 53.0 loss = 86.860085\n",
      "x = 15.1 y = 25.0 loss = 300.5217\n",
      "x = 2.5 y = 22.0 loss = 29.979753\n",
      "x = 15.1 y = 30.0 loss = 276.88965\n",
      "x = 18.5 y = 22.0 loss = 20187.148\n",
      "x = 21.6 y = 31.0 loss = 1379.7649\n"
     ]
    }
   ],
   "source": [
    "with tf.Session() as sess:\n",
    "    # Initialize the variables[w and b].\n",
    "    sess.run(tf.global_variables_initializer())\n",
    "    # Get the input tensors\n",
    "    X, Y = inputs()\n",
    "    # Return the train loss and create the train_op.\n",
    "    train_loss = loss(X, Y)\n",
    "    train_op = train(train_loss)\n",
    "    # Step 8: train the modeltrain_l\n",
    "    for epoch_num in range(10): # run 100 epochs\n",
    "        count = 0\n",
    "        for x, y in data:\n",
    "            count+=1\n",
    "            if count % 5 == 0:\n",
    "                print(\"x =\",x,\"y =\",y,\"loss =\",loss_value)\n",
    "            train_op = train(train_loss)\n",
    "            # Session runs train_op to minimize loss\n",
    "            loss_value,_ = sess.run([train_loss,train_op], feed_dict={X: x, Y: y})\n",
    "            # Displaying the loss per epoch.\n",
    "            \n",
    "        ###############################\n",
    "        #### Evaluate and plot ########\n",
    "        ###############################\n",
    "        Input_values = data[:,0]\n",
    "        Labels = data[:,1]\n",
    "        Prediction_values = data[:,0] * wcoeff + bias\n",
    "        plt.plot(Input_values, Labels, 'ro', label='main')\n",
    "        plt.plot(Input_values, Prediction_values, label='Predicted')\n",
    "\n",
    "        # Saving the result.\n",
    "        plt.legend()\n",
    "        plt.show()\n",
    "        print('epoch %d, loss=%f' %(epoch_num+1, loss_value))\n",
    "\n",
    "        # save the values of weight and bias\n",
    "        wcoeff, bias = sess.run([W, b])"
   ]
  },
  {
   "cell_type": "code",
   "execution_count": null,
   "metadata": {},
   "outputs": [],
   "source": []
  }
 ],
 "metadata": {
  "kernelspec": {
   "display_name": "DeepLearning",
   "language": "python",
   "name": "deeplearning"
  },
  "language_info": {
   "codemirror_mode": {
    "name": "ipython",
    "version": 3
   },
   "file_extension": ".py",
   "mimetype": "text/x-python",
   "name": "python",
   "nbconvert_exporter": "python",
   "pygments_lexer": "ipython3",
   "version": "3.6.8"
  }
 },
 "nbformat": 4,
 "nbformat_minor": 2
}
