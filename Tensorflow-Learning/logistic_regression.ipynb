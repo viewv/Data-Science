{
 "cells": [
  {
   "cell_type": "code",
   "execution_count": 1,
   "metadata": {},
   "outputs": [],
   "source": [
    "import numpy as np\n",
    "import matplotlib.pyplot as plt\n",
    "import tensorflow as tf\n",
    "import tempfile\n",
    "import urllib\n",
    "import pandas as pd\n",
    "import os\n",
    "from tensorflow.examples.tutorials.mnist import input_data\n",
    "!export http_proxy=\"http://127.0.0.1:12333\"\n",
    "!export https_proxy=\"http://127.0.0.1:12333\""
   ]
  },
  {
   "cell_type": "code",
   "execution_count": 2,
   "metadata": {},
   "outputs": [
    {
     "name": "stdout",
     "output_type": "stream",
     "text": [
      "WARNING:tensorflow:From <ipython-input-2-1e3518b16d3c>:1: read_data_sets (from tensorflow.contrib.learn.python.learn.datasets.mnist) is deprecated and will be removed in a future version.\n",
      "Instructions for updating:\n",
      "Please use alternatives such as official/mnist/dataset.py from tensorflow/models.\n",
      "WARNING:tensorflow:From /home/viewv/anaconda3/envs/DeepLearning/lib/python3.6/site-packages/tensorflow/contrib/learn/python/learn/datasets/mnist.py:260: maybe_download (from tensorflow.contrib.learn.python.learn.datasets.base) is deprecated and will be removed in a future version.\n",
      "Instructions for updating:\n",
      "Please write your own downloading logic.\n",
      "WARNING:tensorflow:From /home/viewv/anaconda3/envs/DeepLearning/lib/python3.6/site-packages/tensorflow/contrib/learn/python/learn/datasets/mnist.py:262: extract_images (from tensorflow.contrib.learn.python.learn.datasets.mnist) is deprecated and will be removed in a future version.\n",
      "Instructions for updating:\n",
      "Please use tf.data to implement this functionality.\n",
      "Extracting MNIST_data/train-images-idx3-ubyte.gz\n",
      "WARNING:tensorflow:From /home/viewv/anaconda3/envs/DeepLearning/lib/python3.6/site-packages/tensorflow/contrib/learn/python/learn/datasets/mnist.py:267: extract_labels (from tensorflow.contrib.learn.python.learn.datasets.mnist) is deprecated and will be removed in a future version.\n",
      "Instructions for updating:\n",
      "Please use tf.data to implement this functionality.\n",
      "Extracting MNIST_data/train-labels-idx1-ubyte.gz\n",
      "Extracting MNIST_data/t10k-images-idx3-ubyte.gz\n",
      "Extracting MNIST_data/t10k-labels-idx1-ubyte.gz\n",
      "WARNING:tensorflow:From /home/viewv/anaconda3/envs/DeepLearning/lib/python3.6/site-packages/tensorflow/contrib/learn/python/learn/datasets/mnist.py:290: DataSet.__init__ (from tensorflow.contrib.learn.python.learn.datasets.mnist) is deprecated and will be removed in a future version.\n",
      "Instructions for updating:\n",
      "Please use alternatives such as official/mnist/dataset.py from tensorflow/models.\n"
     ]
    }
   ],
   "source": [
    "mnist = input_data.read_data_sets(\"MNIST_data/\",reshape=True, one_hot=False)"
   ]
  },
  {
   "cell_type": "code",
   "execution_count": 3,
   "metadata": {},
   "outputs": [],
   "source": [
    "tf.app.flags.DEFINE_string(\n",
    "    'train_path', os.path.dirname(os.path.abspath('logs')) + '/train_logs',\n",
    "    'Directory where event logs are written to.')\n",
    "\n",
    "tf.app.flags.DEFINE_string(\n",
    "    'checkpoint_path',\n",
    "    os.path.dirname(os.path.abspath('logs')) + '/checkpoints',\n",
    "    'Directory where checkpoints are written to.')\n",
    "\n",
    "tf.app.flags.DEFINE_integer('max_num_checkpoint', 10,\n",
    "                            'Maximum number of checkpoints that TensorFlow will keep.')\n",
    "\n",
    "tf.app.flags.DEFINE_integer('num_classes', 2,\n",
    "                            'Number of model clones to deploy.')\n",
    "\n",
    "tf.app.flags.DEFINE_integer('batch_size', str(np.power(2, 9)),\n",
    "                            'Number of model clones to deploy.')\n",
    "\n",
    "tf.app.flags.DEFINE_integer('num_epochs', 10,\n",
    "                            'Number of epochs for training.')\n",
    "tf.app.flags.DEFINE_string('f', '', 'kernel')"
   ]
  },
  {
   "cell_type": "code",
   "execution_count": 4,
   "metadata": {},
   "outputs": [],
   "source": [
    "data={}\n",
    "\n",
    "data['train/image'] = mnist.train.images\n",
    "data['train/label'] = mnist.train.labels\n",
    "data['test/image'] = mnist.test.images\n",
    "data['test/label'] = mnist.test.labels"
   ]
  },
  {
   "cell_type": "code",
   "execution_count": 11,
   "metadata": {},
   "outputs": [],
   "source": [
    "tf.app.flags.DEFINE_boolean('is_training', False,\n",
    "                            'Training/Testing.')\n",
    "\n",
    "tf.app.flags.DEFINE_boolean('fine_tuning', False,\n",
    "                            'Fine tuning is desired or not?.')\n",
    "\n",
    "tf.app.flags.DEFINE_boolean('online_test', True,\n",
    "                            'Fine tuning is desired or not?.')\n",
    "\n",
    "tf.app.flags.DEFINE_boolean('allow_soft_placement', True,\n",
    "                            'Automatically put the variables on CPU if there is no GPU support.')\n",
    "\n",
    "tf.app.flags.DEFINE_boolean('log_device_placement', False,\n",
    "                            'Demonstrate which variables are on what device.')\n",
    "\n",
    "# Store all elemnts in FLAG structure!\n",
    "FLAGS = tf.app.flags.FLAGS"
   ]
  },
  {
   "cell_type": "code",
   "execution_count": 6,
   "metadata": {},
   "outputs": [],
   "source": [
    "index_list_train = []\n",
    "for sample_index in range(data['train/label'].shape[0]):\n",
    "    label = data['train/label'][sample_index]\n",
    "    if label == 1 or label == 0:\n",
    "        index_list_train.append(sample_index)"
   ]
  },
  {
   "cell_type": "code",
   "execution_count": 7,
   "metadata": {},
   "outputs": [],
   "source": [
    "# Reform the train data structure.\n",
    "data['train/image'] = mnist.train.images[index_list_train]\n",
    "data['train/label'] = mnist.train.labels[index_list_train]"
   ]
  },
  {
   "cell_type": "code",
   "execution_count": 9,
   "metadata": {},
   "outputs": [],
   "source": [
    "index_list_test = []\n",
    "for sample_index in range(data['test/label'].shape[0]):\n",
    "    label = data['test/label'][sample_index]\n",
    "    if label == 1 or label == 0:\n",
    "        index_list_test.append(sample_index)"
   ]
  },
  {
   "cell_type": "code",
   "execution_count": 10,
   "metadata": {},
   "outputs": [],
   "source": [
    "# Reform the test data structure.\n",
    "data['test/image'] = mnist.test.images[index_list_test]\n",
    "data['test/label'] = mnist.test.labels[index_list_test]"
   ]
  },
  {
   "cell_type": "code",
   "execution_count": null,
   "metadata": {},
   "outputs": [],
   "source": [
    "# Get only the samples with zero and one label for training.\n",
    "index_list_train = []\n",
    "for sample_index in range(data['train/label'].shape[0]):\n",
    "    label = data['train/label'][sample_index]\n",
    "    if label == 1 or label == 0:\n",
    "        index_list_train.append(sample_index)\n",
    "\n",
    "# Reform the train data structure.\n",
    "data['train/image'] = mnist.train.images[index_list_train]\n",
    "data['train/label'] = mnist.train.labels[index_list_train]\n",
    "\n",
    "# Get only the samples with zero and one label for test set.\n",
    "index_list_test = []\n",
    "for sample_index in range(data['test/label'].shape[0]):\n",
    "    label = data['test/label'][sample_index]\n",
    "    if label == 1 or label == 0:\n",
    "        index_list_test.append(sample_index)\n",
    "\n",
    "# Reform the test data structure.\n",
    "data['test/image'] = mnist.test.images[index_list_test]\n",
    "data['test/label'] = mnist.test.labels[index_list_test]"
   ]
  },
  {
   "cell_type": "code",
   "execution_count": null,
   "metadata": {},
   "outputs": [],
   "source": [
    "###############################################\n",
    "########### Defining place holders ############\n",
    "###############################################\n",
    "image_place = tf.placeholder(tf.float32, shape=([None, 9]), name='image')\n",
    "label_place = tf.placeholder(tf.int32, shape=([None,]), name='gt')\n",
    "label_one_hot = tf.one_hot(label_place, depth=9, axis=-1)\n",
    "dropout_param = tf.placeholder(tf.float32)\n",
    "\n",
    "##################################################\n",
    "########### Model + Loss + Accuracy ##############\n",
    "##################################################\n",
    "# A simple fully connected with two class and a Softmax is equivalent to Logistic Regression.\n",
    "logits = tf.contrib.layers.fully_connected(inputs=image_place, num_outputs = 9, scope='fc')"
   ]
  },
  {
   "cell_type": "code",
   "execution_count": null,
   "metadata": {},
   "outputs": [],
   "source": [
    "# Define loss\n",
    "with tf.name_scope('loss'):\n",
    "    loss = tf.reduce_mean(tf.nn.softmax_cross_entropy_with_logits_v2(logits=logits, labels=label_one_hot))\n",
    "\n",
    "# Accuracy\n",
    "with tf.name_scope('accuracy'):\n",
    "    # Evaluate the model\n",
    "    correct_pred = tf.equal(tf.argmax(logits, 1), tf.argmax(label_one_hot, 1))\n",
    "\n",
    "    # Accuracy calculation\n",
    "    accuracy = tf.reduce_mean(tf.cast(correct_pred, tf.float32))"
   ]
  },
  {
   "cell_type": "code",
   "execution_count": null,
   "metadata": {},
   "outputs": [],
   "source": []
  }
 ],
 "metadata": {
  "kernelspec": {
   "display_name": "DeepLearning",
   "language": "python",
   "name": "deeplearning"
  },
  "language_info": {
   "codemirror_mode": {
    "name": "ipython",
    "version": 3
   },
   "file_extension": ".py",
   "mimetype": "text/x-python",
   "name": "python",
   "nbconvert_exporter": "python",
   "pygments_lexer": "ipython3",
   "version": "3.6.8"
  }
 },
 "nbformat": 4,
 "nbformat_minor": 2
}
