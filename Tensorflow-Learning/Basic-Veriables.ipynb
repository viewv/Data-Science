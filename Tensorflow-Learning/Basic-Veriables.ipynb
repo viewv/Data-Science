{
 "cells": [
  {
   "cell_type": "markdown",
   "metadata": {},
   "source": [
    "# Introduction to TensorFlow Variables: Creation, Initialization\n",
    "This tutorial deals with defining and initializing TensorFlow variables.\n",
    "## Introduction\n",
    "Defining variables is necessary because they hold the parameters. Without having parameters, training, updating, saving, restoring and any other operations cannot be performed. The defined variables in TensorFlow are just tensors with certain shapes and types. The tensors must be initialized with values to become valid. In this tutorial, we are going to explain how to define and initialize variables. The source code is available on the dedicated GitHub repository."
   ]
  },
  {
   "cell_type": "code",
   "execution_count": 9,
   "metadata": {},
   "outputs": [],
   "source": [
    "import tensorflow as tf\n",
    "from tensorflow.python.framework import ops\n",
    "import os"
   ]
  },
  {
   "cell_type": "code",
   "execution_count": 10,
   "metadata": {},
   "outputs": [],
   "source": [
    "tf.app.flags.DEFINE_string(\n",
    "'log_dir', os.path.dirname(os.path.abspath('logs')) + '/logs',\n",
    "'Directory where event logs are written to.')\n",
    "tf.app.flags.DEFINE_string('f', '', 'kernel')\n",
    "FLAGS = tf.app.flags.FLAGS"
   ]
  },
  {
   "cell_type": "code",
   "execution_count": 11,
   "metadata": {},
   "outputs": [],
   "source": [
    "weights = tf.Variable(tf.random.normal([2,3],stddev=0.1),\n",
    "                     name=\"weights\")\n",
    "biases = tf.Variable(tf.zeros([3]),name=\"biases\")\n",
    "custom_variable = tf.Variable(tf.zeros([3]), name=\"custom\")\n",
    "\n",
    "# Get all the variables' tensors and store them in a list.\n",
    "all_variables_list = ops.get_collection(ops.GraphKeys.GLOBAL_VARIABLES)"
   ]
  },
  {
   "cell_type": "code",
   "execution_count": 12,
   "metadata": {},
   "outputs": [],
   "source": [
    "# \"variable_list_custom\" is the list of variables that we want to initialize.\n",
    "variable_list_custom = [weights, custom_variable]\n",
    "\n",
    "# The initializer\n",
    "init_custom_op = tf.variables_initializer(var_list=all_variables_list)"
   ]
  },
  {
   "cell_type": "code",
   "execution_count": 13,
   "metadata": {},
   "outputs": [],
   "source": [
    "WeightsNew =tf.Variable(weights.initialized_value,name=\"WeightNew\")\n",
    "init_WeightNew_op = tf.variables_initializer(var_list=[WeightsNew])"
   ]
  },
  {
   "cell_type": "code",
   "execution_count": 14,
   "metadata": {},
   "outputs": [],
   "source": [
    "# Method-1\n",
    "# Add an op to initialize the variables.\n",
    "init_all_op = tf.global_variables_initializer()\n",
    "\n",
    "# Method-2\n",
    "init_all_op = tf.variables_initializer(var_list=all_variables_list)"
   ]
  },
  {
   "cell_type": "code",
   "execution_count": 16,
   "metadata": {},
   "outputs": [],
   "source": [
    "with tf.Session() as sess:\n",
    "    sess.run(init_all_op)\n",
    "    sess.run(init_custom_op)\n",
    "    sess.run(init_WeightNew_op)"
   ]
  },
  {
   "cell_type": "code",
   "execution_count": null,
   "metadata": {},
   "outputs": [],
   "source": []
  }
 ],
 "metadata": {
  "kernelspec": {
   "display_name": "DeepLearning",
   "language": "python",
   "name": "deeplearning"
  },
  "language_info": {
   "codemirror_mode": {
    "name": "ipython",
    "version": 3
   },
   "file_extension": ".py",
   "mimetype": "text/x-python",
   "name": "python",
   "nbconvert_exporter": "python",
   "pygments_lexer": "ipython3",
   "version": "3.6.8"
  }
 },
 "nbformat": 4,
 "nbformat_minor": 2
}
